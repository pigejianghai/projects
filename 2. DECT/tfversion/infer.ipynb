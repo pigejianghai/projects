{
 "cells": [
  {
   "cell_type": "code",
   "execution_count": 1,
   "metadata": {},
   "outputs": [
    {
     "name": "stderr",
     "output_type": "stream",
     "text": [
      "2024-12-16 16:23:59.862696: I tensorflow/stream_executor/platform/default/dso_loader.cc:49] Successfully opened dynamic library libcudart.so.11.0\n"
     ]
    },
    {
     "name": "stdout",
     "output_type": "stream",
     "text": [
      "WARNING:tensorflow:From /tmp/ipykernel_48529/1621018485.py:4: experimental_run_functions_eagerly (from tensorflow.python.eager.def_function) is deprecated and will be removed in a future version.\n",
      "Instructions for updating:\n",
      "Use `tf.config.run_functions_eagerly` instead of the experimental version.\n"
     ]
    },
    {
     "name": "stderr",
     "output_type": "stream",
     "text": [
      "2024-12-16 16:24:03.381694: I tensorflow/compiler/jit/xla_gpu_device.cc:99] Not creating XLA devices, tf_xla_enable_xla_devices not set\n",
      "2024-12-16 16:24:03.383146: I tensorflow/stream_executor/platform/default/dso_loader.cc:49] Successfully opened dynamic library libcuda.so.1\n",
      "2024-12-16 16:24:05.225416: I tensorflow/core/common_runtime/gpu/gpu_device.cc:1720] Found device 0 with properties: \n",
      "pciBusID: 0000:83:00.0 name: NVIDIA GeForce GTX 1080 Ti computeCapability: 6.1\n",
      "coreClock: 1.62GHz coreCount: 28 deviceMemorySize: 10.92GiB deviceMemoryBandwidth: 451.17GiB/s\n",
      "2024-12-16 16:24:05.225576: I tensorflow/stream_executor/platform/default/dso_loader.cc:49] Successfully opened dynamic library libcudart.so.11.0\n",
      "2024-12-16 16:24:05.240659: I tensorflow/stream_executor/platform/default/dso_loader.cc:49] Successfully opened dynamic library libcublas.so.11\n",
      "2024-12-16 16:24:05.240710: I tensorflow/stream_executor/platform/default/dso_loader.cc:49] Successfully opened dynamic library libcublasLt.so.11\n",
      "2024-12-16 16:24:05.247105: I tensorflow/stream_executor/platform/default/dso_loader.cc:49] Successfully opened dynamic library libcufft.so.10\n",
      "2024-12-16 16:24:05.247846: I tensorflow/stream_executor/platform/default/dso_loader.cc:49] Successfully opened dynamic library libcurand.so.10\n",
      "2024-12-16 16:24:05.262742: I tensorflow/stream_executor/platform/default/dso_loader.cc:49] Successfully opened dynamic library libcusolver.so.10\n",
      "2024-12-16 16:24:05.264221: I tensorflow/stream_executor/platform/default/dso_loader.cc:49] Successfully opened dynamic library libcusparse.so.11\n",
      "2024-12-16 16:24:05.264442: I tensorflow/stream_executor/platform/default/dso_loader.cc:49] Successfully opened dynamic library libcudnn.so.8\n",
      "2024-12-16 16:24:05.266490: I tensorflow/core/common_runtime/gpu/gpu_device.cc:1862] Adding visible gpu devices: 0\n",
      "2024-12-16 16:24:05.266581: I tensorflow/stream_executor/platform/default/dso_loader.cc:49] Successfully opened dynamic library libcudart.so.11.0\n",
      "2024-12-16 16:24:06.092647: I tensorflow/core/common_runtime/gpu/gpu_device.cc:1261] Device interconnect StreamExecutor with strength 1 edge matrix:\n",
      "2024-12-16 16:24:06.092835: I tensorflow/core/common_runtime/gpu/gpu_device.cc:1267]      0 \n",
      "2024-12-16 16:24:06.092870: I tensorflow/core/common_runtime/gpu/gpu_device.cc:1280] 0:   N \n",
      "2024-12-16 16:24:06.101471: I tensorflow/core/common_runtime/gpu/gpu_device.cc:1406] Created TensorFlow device (/job:localhost/replica:0/task:0/device:GPU:0 with 10271 MB memory) -> physical GPU (device: 0, name: NVIDIA GeForce GTX 1080 Ti, pci bus id: 0000:83:00.0, compute capability: 6.1)\n"
     ]
    }
   ],
   "source": [
    "import tensorflow as tf\n",
    "import os\n",
    "# os.environ['CUDA_VISIBLE_DEVICES'] = '2'\n",
    "tf.config.experimental_run_functions_eagerly(True)\n",
    "import numpy as np\n",
    "import random\n",
    "import matplotlib.pyplot as plt\n",
    "########################################\n",
    "########################################\n",
    "RANDOM_STATE = 42\n",
    "random.seed(RANDOM_STATE)\n",
    "np.random.seed(RANDOM_STATE)\n",
    "tf.random.set_seed(RANDOM_STATE)\n",
    "os.environ['TF_DETERMINISTIC_OPS'] = '1'\n",
    "os.environ[\"CUDA_VISIBLE_DEVICES\"] = '2'\n",
    "tf.config.experimental_run_functions_eagerly(True)\n",
    "GPU_OPTIONS = tf.compat.v1.GPUOptions(allow_growth=True)\n",
    "SESS = tf.compat.v1.Session(config=tf.compat.v1.ConfigProto(gpu_options=GPU_OPTIONS))\n",
    "# cudnn may brings deviation in the final indexes even if the random seed has been fixed\n",
    "########################################\n",
    "########################################\n",
    "from tensorflow import keras\n",
    "from utils import get_id_label, DECTGenerator\n",
    "from sklearn.metrics import roc_curve, auc\n",
    "from itertools import cycle\n",
    "from scipy import interp"
   ]
  },
  {
   "cell_type": "code",
   "execution_count": 2,
   "metadata": {},
   "outputs": [],
   "source": [
    "pred_0, pred_1, pred_2, pred_3, pred_4, pred_5, pred_6 = [], [], [], [], [], [], []\n",
    "true_2 = []\n",
    "\n",
    "model_shallow = '/data1/jianghai/DECT/code/tfversion/checkpoint/20240305_142448_fold_1_best_model'\n",
    "model_shallow_se = '/data1/jianghai/DECT/code/tfversion/checkpoint/20240305_142510_fold_1_best_model'\n",
    "model_proposed = '/data1/jianghai/DECT/code/tfversion/checkpoint/20241215_114620_fold_1_best_model'\n",
    "\n",
    "model_vgg16 = '/data1/jianghai/DECT/code/tfversion/checkpoint/20240305_142812_fold_1_best_model'\n",
    "model_vgg19 = '/data1/jianghai/DECT/code/tfversion/checkpoint/20240305_143116_fold_1_best_model'\n",
    "model_resnet = '/data1/jianghai/DECT/code/tfversion/checkpoint/20240305_143239_fold_1_best_model'\n",
    "model_dense = '/data1/jianghai/DECT/code/tfversion/checkpoint/20240305_143313_fold_1_best_model'\n",
    "\n",
    "model_single = '/data1/jianghai/DECT/code/tfversion/checkpoint/20241214_210859_fold_1_best_model'\n",
    "model_single_vc = '/data1/jianghai/DECT/code/tfversion/checkpoint/20241214_210937_fold_1_best_model'"
   ]
  },
  {
   "cell_type": "code",
   "execution_count": 16,
   "metadata": {},
   "outputs": [],
   "source": [
    "NUM_CLASSES = 3\n",
    "BATCH_SIZE = 32\n",
    "ROOT_PATH = '/data1/jianghai/DECT/'\n",
    "test_txt = ROOT_PATH + 'txt/multi/multi_test.txt'\n",
    "test_id_list, test_label_list = get_id_label(test_txt)\n",
    "\n",
    "test_dataset = DECTGenerator(IDs_list=test_id_list, label_list=test_label_list, \n",
    "                             num_classes=NUM_CLASSES, batch_size=16, shuffle=False, \n",
    "                             n_channels=11, #energy_level=0, \n",
    "                             augmentation=None)\n",
    "\n",
    "loss_object = keras.losses.CategoricalCrossentropy(from_logits=True)\n",
    "test_accuracy = keras.metrics.CategoricalAccuracy(name='test_accuracy')\n",
    "test_auc = keras.metrics.AUC(name='test_auc',  thresholds=np.arange(0,1+0.000001,0.000001))\n",
    "test_loss = keras.metrics.Mean(name='test_loss', dtype=tf.float32)\n",
    "# print(len(model_name))\n",
    "# for n in model_name:\n",
    "#     print(model_name.index(n))"
   ]
  },
  {
   "cell_type": "code",
   "execution_count": 17,
   "metadata": {},
   "outputs": [
    {
     "name": "stdout",
     "output_type": "stream",
     "text": [
      "WARNING:tensorflow:No training configuration found in save file, so the model was *not* compiled. Compile it manually.\n",
      "tf.Tensor(0.75439453, shape=(), dtype=float32)\n"
     ]
    }
   ],
   "source": [
    "gt, pre = [], []\n",
    "model = tf.keras.models.load_model(model_shallow_se)\n",
    "for test_array, test_labels in test_dataset:\n",
    "    predictions = model(test_array, False)#, None\n",
    "    loss = loss_object(test_labels, predictions)\n",
    "\n",
    "    test_loss(loss)\n",
    "    test_accuracy(test_labels, predictions)\n",
    "    # preds = tf.nn.softmax(predictions)\n",
    "    test_auc(test_labels, tf.nn.softmax(predictions))\n",
    "    \n",
    "    for t in test_labels.tolist():#tf.nn.softmax(test_labels):\n",
    "        # true.append(np.argmax(t))\n",
    "        gt.append(t)\n",
    "    for p in predictions.numpy().tolist():#tf.nn.softmax(predictions):\n",
    "        # pred.append(np.argmax(p))\n",
    "        pre.append(p)\n",
    "    # print(true)\n",
    "# print(pred)\n",
    "# true = np.array(gt)\n",
    "true_2 = np.array(gt)\n",
    "pred_2 = np.array(pre)\n",
    "print(test_auc.result())"
   ]
  },
  {
   "cell_type": "code",
   "execution_count": 18,
   "metadata": {},
   "outputs": [
    {
     "data": {
      "image/png": "[encoded data removed]",
      "text/plain": [
       "<Figure size 640x480 with 1 Axes>"
      ]
     },
     "metadata": {},
     "output_type": "display_data"
    }
   ],
   "source": [
    "import numpy as np\n",
    "from scipy import interp\n",
    "import matplotlib.pyplot as plt\n",
    "from itertools import cycle\n",
    "from sklearn.metrics import roc_curve, auc\n",
    "\n",
    "n_classes = [0, 1, 2]\n",
    "y_test = true_2\n",
    "y_score = pred_2\n",
    "label_name = 'Proposed'\n",
    "fpr = dict()\n",
    "tpr = dict()\n",
    "roc_auc = dict()\n",
    "for i in n_classes:\n",
    "    fpr[i], tpr[i], _ = roc_curve(y_test[:, i], y_score[:, i])\n",
    "    roc_auc[i] = auc(fpr[i], tpr[i])\n",
    "fpr[\"micro\"], tpr[\"micro\"], _ = roc_curve(y_test.ravel(), y_score.ravel())\n",
    "roc_auc[\"micro\"] = auc(fpr[\"micro\"], tpr[\"micro\"])\n",
    "plt.plot(fpr[\"micro\"], tpr[\"micro\"], \n",
    "            label=label_name + '(AUC = {0:0.2f})'''.format(roc_auc[\"micro\"]), color='black', \n",
    "            linestyle='-', \n",
    "            linewidth=2)\n",
    "\n",
    "# plt.plot([0, 1], [0, 1], 'k--', lw=lw)\n",
    "plt.xlim([0.0, 1.0])\n",
    "plt.ylim([0.0, 1.05])\n",
    "# plt.xticks(fontsize=20)\n",
    "# plt.yticks(fontsize=20)\n",
    "plt.xlabel('False Positive Rate', fontsize=15)\n",
    "plt.ylabel('True Positive Rate', fontsize=15)\n",
    "# plt.title('Some extension of Receiver operating characteristic to multi-class')\n",
    "plt.legend(loc=\"lower right\", fontsize=12)\n",
    "# plt.show()\n",
    "# plt.savefig('fold 2.eps', format='eps', dpi=400)\n",
    "plt.show()"
   ]
  },
  {
   "cell_type": "code",
   "execution_count": null,
   "metadata": {},
   "outputs": [],
   "source": [
    "import numpy as np\n",
    "from scipy import interp\n",
    "import matplotlib.pyplot as plt\n",
    "from itertools import cycle\n",
    "from sklearn.metrics import roc_curve, auc\n",
    "# y_test = true\n",
    "# y_score = pred_1\n",
    "score_array = [pred_0, pred_1, pred_3, pred_4, pred_5, pred_6]\n",
    "color_array = ['orange', 'yellow', 'green', 'blue', 'gray', 'purple']\n",
    "name_array = ['Shallow', 'Shallow+SE', 'VGG16', 'VGG19', 'ResNet', 'DenseNet121']\n",
    "# for s in score_array:\n",
    "# y_test = true\n",
    "# y_score = pred\n",
    "n_classes=[0, 1, 2]\n",
    "# FPR, TPR, ROC_AUC = [dict(), dict(), dict(), dict(), dict(), dict()], [dict(), dict(), dict(), dict(), dict(), dict()], [dict(), dict(), dict(), dict(), dict(), dict()]\n",
    "# i = 0\n",
    "# for s in score_array:\n",
    "for j in range(6):\n",
    "# if score_array.index(s) == 2:\n",
    "#     y_test = true_2\n",
    "#     n_classes = [0, 1, 2, 3]\n",
    "    # print(i)\n",
    "    y_test = np.array(true)\n",
    "    y_score = np.array(score_array[j])\n",
    "    # plt.style.use('default')\n",
    "    # Plot linewidth.\n",
    "    lw = 2\n",
    "    # Compute ROC curve and ROC area for each class\n",
    "    fpr = dict()\n",
    "    tpr = dict()\n",
    "    roc_auc = dict()\n",
    "    \n",
    "    for i in n_classes:\n",
    "        fpr[i], tpr[i], _ = roc_curve(y_test[:, i], y_score[:, i])\n",
    "        roc_auc[i] = auc(fpr[i], tpr[i])\n",
    "    # Compute micro-average ROC curve and ROC area\n",
    "    fpr[\"micro\"], tpr[\"micro\"], _ = roc_curve(y_test.ravel(), y_score.ravel())\n",
    "    roc_auc[\"micro\"] = auc(fpr[\"micro\"], tpr[\"micro\"])\n",
    "    label_name = name_array[j]\n",
    "    # Compute macro-average ROC curve and ROC area\n",
    "    # First aggregate all false positive rates\n",
    "    # all_fpr = np.unique(np.concatenate([fpr[i] for i in n_classes]))\n",
    "    # # Then interpolate all ROC curves at this points\n",
    "    # mean_tpr = np.zeros_like(all_fpr)\n",
    "    # for i in n_classes:\n",
    "    #     mean_tpr += interp(all_fpr, fpr[i], tpr[i])\n",
    "    # # Finally average it and compute AUC\n",
    "    # mean_tpr /= len(n_classes)\n",
    "    # fpr[\"macro\"] = all_fpr\n",
    "    # tpr[\"macro\"] = mean_tpr\n",
    "    # roc_auc[\"macro\"] = auc(fpr[\"macro\"], tpr[\"macro\"])\n",
    "    # Plot all ROC curves\n",
    "    # plt.figure(1)\n",
    "    # label = score_array[i]\n",
    "    plt.plot(fpr[\"micro\"], tpr[\"micro\"], \n",
    "             label=label_name + '(AUC = {0:0.2f})'''.format(roc_auc[\"micro\"]), \n",
    "             linestyle='-', \n",
    "             linewidth=1)\n",
    "# plt.plot(fpr[\"macro\"], tpr[\"macro\"],\n",
    "#          label='macro-average ROC curve (area = {0:0.2f})'\n",
    "#                ''.format(roc_auc[\"macro\"]),\n",
    "#          color='navy', linestyle=':', linewidth=4)\n",
    "# colors = cycle(['aqua', 'darkorange', 'cornflowerblue'])\n",
    "# for i, color in zip(n_classes, colors):\n",
    "#     plt.plot(fpr[i], tpr[i], color=color, lw=lw,\n",
    "#              label='ROC curve of class {0} (area = {1:0.2f})'\n",
    "#              ''.format(i, roc_auc[i]))\n",
    "n_classes = [0, 1, 2, 3]\n",
    "y_test = true_2\n",
    "y_score = pred_2\n",
    "label_name = 'Proposed'\n",
    "fpr = dict()\n",
    "tpr = dict()\n",
    "roc_auc = dict()\n",
    "for i in n_classes:\n",
    "    fpr[i], tpr[i], _ = roc_curve(y_test[:, i], y_score[:, i])\n",
    "    roc_auc[i] = auc(fpr[i], tpr[i])\n",
    "fpr[\"micro\"], tpr[\"micro\"], _ = roc_curve(y_test.ravel(), y_score.ravel())\n",
    "roc_auc[\"micro\"] = auc(fpr[\"micro\"], tpr[\"micro\"])\n",
    "plt.plot(fpr[\"micro\"], tpr[\"micro\"], \n",
    "            label=label_name + '(AUC = {0:0.2f})'''.format(roc_auc[\"micro\"]), color='black', \n",
    "            linestyle='-', \n",
    "            linewidth=2)\n",
    "\n",
    "# plt.plot([0, 1], [0, 1], 'k--', lw=lw)\n",
    "plt.xlim([0.0, 1.0])\n",
    "plt.ylim([0.0, 1.05])\n",
    "# plt.xticks(fontsize=20)\n",
    "# plt.yticks(fontsize=20)\n",
    "plt.xlabel('False Positive Rate', fontsize=15)\n",
    "plt.ylabel('True Positive Rate', fontsize=15)\n",
    "# plt.title('Some extension of Receiver operating characteristic to multi-class')\n",
    "plt.legend(loc=\"lower right\", fontsize=12)\n",
    "# plt.show()\n",
    "plt.savefig('fold 2.eps', format='eps', dpi=400)\n",
    "plt.show()"
   ]
  },
  {
   "cell_type": "code",
   "execution_count": null,
   "metadata": {},
   "outputs": [],
   "source": [
    "print(y_test.shape, y_score.shape)"
   ]
  },
  {
   "cell_type": "code",
   "execution_count": null,
   "metadata": {},
   "outputs": [],
   "source": [
    "plt.savefig('fold 3.eps', format='eps', dpi=300)\n",
    "plt.show()"
   ]
  },
  {
   "cell_type": "code",
   "execution_count": null,
   "metadata": {},
   "outputs": [],
   "source": [
    "for s in name_array:\n",
    "    print(type(s))"
   ]
  },
  {
   "cell_type": "code",
   "execution_count": null,
   "metadata": {},
   "outputs": [],
   "source": [
    "\n",
    "txt_path = '/data1/jianghai/DECT/txt/multi/multi_test.txt'\n",
    "id, label = [], []\n",
    "f = open(txt_path, 'r')\n",
    "for line in f:\n",
    "    id.append(line.split()[0])\n",
    "    label.append(line.split()[1])\n",
    "\n",
    "print(label.count('0'), label.count('1'), label.count('2'))"
   ]
  }
 ],
 "metadata": {
  "kernelspec": {
   "display_name": "tf",
   "language": "python",
   "name": "python3"
  },
  "language_info": {
   "codemirror_mode": {
    "name": "ipython",
    "version": 3
   },
   "file_extension": ".py",
   "mimetype": "text/x-python",
   "name": "python",
   "nbconvert_exporter": "python",
   "pygments_lexer": "ipython3",
   "version": "3.8.0"
  }
 },
 "nbformat": 4,
 "nbformat_minor": 2
}
